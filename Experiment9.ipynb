{
  "nbformat": 4,
  "nbformat_minor": 0,
  "metadata": {
    "colab": {
      "provenance": [],
      "include_colab_link": true
    },
    "kernelspec": {
      "name": "python3",
      "display_name": "Python 3"
    },
    "language_info": {
      "name": "python"
    }
  },
  "cells": [
    {
      "cell_type": "markdown",
      "metadata": {
        "id": "view-in-github",
        "colab_type": "text"
      },
      "source": [
        "<a href=\"https://colab.research.google.com/github/msabdulrazak/Datasets/blob/main/Experiment9.ipynb\" target=\"_parent\"><img src=\"https://colab.research.google.com/assets/colab-badge.svg\" alt=\"Open In Colab\"/></a>"
      ]
    },
    {
      "cell_type": "markdown",
      "source": [
        "Setting the wikipedia Api\n"
      ],
      "metadata": {
        "id": "T1McIFy90Lr5"
      }
    },
    {
      "cell_type": "code",
      "source": [
        "pip install wikipedia-api pydantic"
      ],
      "metadata": {
        "colab": {
          "base_uri": "https://localhost:8080/"
        },
        "id": "EL7GAsryglcI",
        "outputId": "38fb4a26-8857-4745-b55a-4c17735a12ba"
      },
      "execution_count": 1,
      "outputs": [
        {
          "output_type": "stream",
          "name": "stdout",
          "text": [
            "Collecting wikipedia-api\n",
            "  Downloading wikipedia_api-0.8.1.tar.gz (19 kB)\n",
            "  Preparing metadata (setup.py) ... \u001b[?25l\u001b[?25hdone\n",
            "Requirement already satisfied: pydantic in /usr/local/lib/python3.11/dist-packages (2.10.6)\n",
            "Requirement already satisfied: requests in /usr/local/lib/python3.11/dist-packages (from wikipedia-api) (2.32.3)\n",
            "Requirement already satisfied: annotated-types>=0.6.0 in /usr/local/lib/python3.11/dist-packages (from pydantic) (0.7.0)\n",
            "Requirement already satisfied: pydantic-core==2.27.2 in /usr/local/lib/python3.11/dist-packages (from pydantic) (2.27.2)\n",
            "Requirement already satisfied: typing-extensions>=4.12.2 in /usr/local/lib/python3.11/dist-packages (from pydantic) (4.12.2)\n",
            "Requirement already satisfied: charset-normalizer<4,>=2 in /usr/local/lib/python3.11/dist-packages (from requests->wikipedia-api) (3.4.1)\n",
            "Requirement already satisfied: idna<4,>=2.5 in /usr/local/lib/python3.11/dist-packages (from requests->wikipedia-api) (3.10)\n",
            "Requirement already satisfied: urllib3<3,>=1.21.1 in /usr/local/lib/python3.11/dist-packages (from requests->wikipedia-api) (2.3.0)\n",
            "Requirement already satisfied: certifi>=2017.4.17 in /usr/local/lib/python3.11/dist-packages (from requests->wikipedia-api) (2025.1.31)\n",
            "Building wheels for collected packages: wikipedia-api\n",
            "\u001b[31mERROR: Operation cancelled by user\u001b[0m\u001b[31m\n",
            "\u001b[0m  Building wheel for wikipedia-api (setup.py) ... \u001b[?25l\u001b[?25h"
          ]
        }
      ]
    },
    {
      "cell_type": "markdown",
      "source": [
        "Extracting details of multinational companies from their wikipedia\n"
      ],
      "metadata": {
        "id": "DECkyHTg0EzT"
      }
    },
    {
      "cell_type": "code",
      "source": [
        "import wikipediaapi\n",
        "import re\n",
        "\n",
        "class InstitutionDetails:\n",
        "    def __init__(self, name, founded, headquarters, branches, summary):\n",
        "        self.name = name\n",
        "        self.founded = founded\n",
        "        self.headquarters = headquarters\n",
        "        self.branches = branches\n",
        "        self.summary = summary\n",
        "\n",
        "    def __str__(self):\n",
        "        return f\"\"\"\n",
        "Institution Details\n",
        "-------------------\n",
        "Name: {self.name}\n",
        "Founded: {self.founded}\n",
        "Headquarters: {self.headquarters}\n",
        "Branches: {\", \".join(self.branches) if self.branches else \"Not Found\"}\n",
        "\n",
        "Summary:\n",
        "{self.summary}\n",
        "\"\"\"\n",
        "\n",
        "def fetch_institution_info(institution_name):\n",
        "    wiki = wikipediaapi.Wikipedia(user_agent=\"Mozilla/5.0\", language=\"en\")\n",
        "    page = wiki.page(institution_name)\n",
        "\n",
        "    if not page.exists():\n",
        "        return f\"No Wikipedia page found for {institution_name}\"\n",
        "\n",
        "    text = page.text\n",
        "\n",
        "    # Extract Founded Year\n",
        "    founded = extract_infobox(page).get(\"founded\") or extract_infobox(page).get(\"established\")\n",
        "    if not founded:\n",
        "        founded_match = re.search(r\"(?:Founded|Established)(?: on| in)?:?\\s*([\\w\\s,]+ \\d{4})\", text, re.IGNORECASE)\n",
        "        founded = founded_match.group(1).strip() if founded_match else \"Not Found\"\n",
        "\n",
        "    # Extract Headquarters\n",
        "    headquarters = extract_infobox(page).get(\"headquarters\")\n",
        "    if not headquarters:\n",
        "        headquarters_match = re.search(r\"(?:Headquarters|Head office|Headquartered in):?\\s*([\\w\\s,]+)\", text, re.IGNORECASE)\n",
        "        headquarters = headquarters_match.group(1).strip() if headquarters_match else \"Not Found\"\n",
        "\n",
        "    # Extract Branches\n",
        "    branch_keywords = [\"New York\", \"San Francisco\", \"London\", \"Tokyo\", \"Bangalore\", \"Cambridge\", \"Seattle\", \"Mountain View\"]\n",
        "    branches_found = {match for match in branch_keywords if re.search(rf\"\\b{match}\\b\", text, re.IGNORECASE)}\n",
        "    branches = list(branches_found) if branches_found else [\"Not Found\"]\n",
        "\n",
        "    # Extract Summary\n",
        "    summary_sentences = re.split(r'(?<=\\.)\\s', page.summary)[:3]  # Split into sentences and take first 3\n",
        "    summary = \" \".join(summary_sentences).strip()\n",
        "\n",
        "    return InstitutionDetails(\n",
        "        name=institution_name,\n",
        "        founded=founded,\n",
        "        headquarters=headquarters,\n",
        "        branches=branches,\n",
        "        summary=summary\n",
        "    )\n",
        "\n",
        "def extract_infobox(page):\n",
        "    \"\"\"Extract infobox details from a Wikipedia page (if available).\"\"\"\n",
        "    infobox = {}\n",
        "    for line in page.text.split(\"\\n\"):\n",
        "        match = re.match(r\"\\|\\s*([^=]+)\\s*=\\s*(.+)\", line)\n",
        "        if match:\n",
        "            key, value = match.groups()\n",
        "            key = key.strip().lower().replace(\" \", \"_\")\n",
        "            value = value.strip()\n",
        "            infobox[key] = value\n",
        "    return infobox\n",
        "\n",
        "# Example Usage:\n",
        "institution_name = input(\"Enter institution name: \")\n",
        "result = fetch_institution_info(institution_name)\n",
        "print(result)\n"
      ],
      "metadata": {
        "id": "FvE4A-32gqbb",
        "colab": {
          "base_uri": "https://localhost:8080/",
          "height": 384
        },
        "outputId": "61639651-858f-463b-bec9-57294fc3e9a4"
      },
      "execution_count": 2,
      "outputs": [
        {
          "output_type": "error",
          "ename": "ModuleNotFoundError",
          "evalue": "No module named 'wikipediaapi'",
          "traceback": [
            "\u001b[0;31m---------------------------------------------------------------------------\u001b[0m",
            "\u001b[0;31mModuleNotFoundError\u001b[0m                       Traceback (most recent call last)",
            "\u001b[0;32m<ipython-input-2-f62029065587>\u001b[0m in \u001b[0;36m<cell line: 0>\u001b[0;34m()\u001b[0m\n\u001b[0;32m----> 1\u001b[0;31m \u001b[0;32mimport\u001b[0m \u001b[0mwikipediaapi\u001b[0m\u001b[0;34m\u001b[0m\u001b[0;34m\u001b[0m\u001b[0m\n\u001b[0m\u001b[1;32m      2\u001b[0m \u001b[0;32mimport\u001b[0m \u001b[0mre\u001b[0m\u001b[0;34m\u001b[0m\u001b[0;34m\u001b[0m\u001b[0m\n\u001b[1;32m      3\u001b[0m \u001b[0;34m\u001b[0m\u001b[0m\n\u001b[1;32m      4\u001b[0m \u001b[0;32mclass\u001b[0m \u001b[0mInstitutionDetails\u001b[0m\u001b[0;34m:\u001b[0m\u001b[0;34m\u001b[0m\u001b[0;34m\u001b[0m\u001b[0m\n\u001b[1;32m      5\u001b[0m     \u001b[0;32mdef\u001b[0m \u001b[0m__init__\u001b[0m\u001b[0;34m(\u001b[0m\u001b[0mself\u001b[0m\u001b[0;34m,\u001b[0m \u001b[0mname\u001b[0m\u001b[0;34m,\u001b[0m \u001b[0mfounded\u001b[0m\u001b[0;34m,\u001b[0m \u001b[0mheadquarters\u001b[0m\u001b[0;34m,\u001b[0m \u001b[0mbranches\u001b[0m\u001b[0;34m,\u001b[0m \u001b[0msummary\u001b[0m\u001b[0;34m)\u001b[0m\u001b[0;34m:\u001b[0m\u001b[0;34m\u001b[0m\u001b[0;34m\u001b[0m\u001b[0m\n",
            "\u001b[0;31mModuleNotFoundError\u001b[0m: No module named 'wikipediaapi'",
            "",
            "\u001b[0;31m---------------------------------------------------------------------------\u001b[0;32m\nNOTE: If your import is failing due to a missing package, you can\nmanually install dependencies using either !pip or !apt.\n\nTo view examples of installing some common dependencies, click the\n\"Open Examples\" button below.\n\u001b[0;31m---------------------------------------------------------------------------\u001b[0m\n"
          ],
          "errorDetails": {
            "actions": [
              {
                "action": "open_url",
                "actionText": "Open Examples",
                "url": "/notebooks/snippets/importing_libraries.ipynb"
              }
            ]
          }
        }
      ]
    }
  ]
}