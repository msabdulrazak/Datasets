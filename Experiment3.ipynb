{
  "nbformat": 4,
  "nbformat_minor": 0,
  "metadata": {
    "colab": {
      "provenance": [],
      "include_colab_link": true
    },
    "kernelspec": {
      "name": "python3",
      "display_name": "Python 3"
    },
    "language_info": {
      "name": "python"
    }
  },
  "cells": [
    {
      "cell_type": "markdown",
      "metadata": {
        "id": "view-in-github",
        "colab_type": "text"
      },
      "source": [
        "<a href=\"https://colab.research.google.com/github/msabdulrazak/Datasets/blob/main/Experiment3.ipynb\" target=\"_parent\"><img src=\"https://colab.research.google.com/assets/colab-badge.svg\" alt=\"Open In Colab\"/></a>"
      ]
    },
    {
      "cell_type": "markdown",
      "source": [
        "Experiment 3"
      ],
      "metadata": {
        "id": "PeLAWrVvxZHs"
      }
    },
    {
      "cell_type": "code",
      "source": [
        "!pip install gensim nltk"
      ],
      "metadata": {
        "colab": {
          "base_uri": "https://localhost:8080/"
        },
        "id": "e5LUaYFvbhZw",
        "outputId": "600b6e67-5f7f-4dcf-dccc-0d8c433279cf"
      },
      "execution_count": 1,
      "outputs": [
        {
          "output_type": "stream",
          "name": "stdout",
          "text": [
            "Requirement already satisfied: gensim in /usr/local/lib/python3.11/dist-packages (4.3.3)\n",
            "Requirement already satisfied: nltk in /usr/local/lib/python3.11/dist-packages (3.9.1)\n",
            "Requirement already satisfied: numpy<2.0,>=1.18.5 in /usr/local/lib/python3.11/dist-packages (from gensim) (1.26.4)\n",
            "Requirement already satisfied: scipy<1.14.0,>=1.7.0 in /usr/local/lib/python3.11/dist-packages (from gensim) (1.13.1)\n",
            "Requirement already satisfied: smart-open>=1.8.1 in /usr/local/lib/python3.11/dist-packages (from gensim) (7.1.0)\n",
            "Requirement already satisfied: click in /usr/local/lib/python3.11/dist-packages (from nltk) (8.1.8)\n",
            "Requirement already satisfied: joblib in /usr/local/lib/python3.11/dist-packages (from nltk) (1.4.2)\n",
            "Requirement already satisfied: regex>=2021.8.3 in /usr/local/lib/python3.11/dist-packages (from nltk) (2024.11.6)\n",
            "Requirement already satisfied: tqdm in /usr/local/lib/python3.11/dist-packages (from nltk) (4.67.1)\n",
            "Requirement already satisfied: wrapt in /usr/local/lib/python3.11/dist-packages (from smart-open>=1.8.1->gensim) (1.17.2)\n"
          ]
        }
      ]
    },
    {
      "cell_type": "code",
      "source": [
        "pip install adjustText"
      ],
      "metadata": {
        "colab": {
          "base_uri": "https://localhost:8080/"
        },
        "id": "wKrUgNt8mp4k",
        "outputId": "1263749e-67a7-4f1c-88aa-9c5b8da62c70"
      },
      "execution_count": 2,
      "outputs": [
        {
          "output_type": "stream",
          "name": "stdout",
          "text": [
            "\u001b[31mERROR: Operation cancelled by user\u001b[0m\u001b[31m\n",
            "\u001b[0m"
          ]
        }
      ]
    },
    {
      "cell_type": "code",
      "source": [
        "import gensim\n",
        "from gensim.models import Word2Vec\n",
        "import nltk\n",
        "import string\n",
        "nltk.download(\"punkt_tab\")\n",
        "nltk.download(\"punkt\")\n",
        "nltk.download(\"stopwords\")\n",
        "from nltk.tokenize import word_tokenize\n",
        "from nltk.corpus import stopwords\n",
        "import numpy as np\n",
        "import matplotlib.pyplot as plt\n",
        "from sklearn.decomposition import PCA\n",
        "from adjustText import adjust_text"
      ],
      "metadata": {
        "id": "x-jOsQLclpuf"
      },
      "execution_count": null,
      "outputs": []
    },
    {
      "cell_type": "markdown",
      "source": [
        "Small Dataset (Medical)"
      ],
      "metadata": {
        "id": "O5ITb18flHN2"
      }
    },
    {
      "cell_type": "code",
      "source": [
        "medical_corpus = [\n",
        "    # General Medicine\n",
        "    \"The patient was diagnosed with diabetes and prescribed insulin therapy.\",\n",
        "    \"A fever is a common symptom of many viral infections.\",\n",
        "    \"Doctors recommend a balanced diet to prevent lifestyle diseases.\",\n",
        "    \"Hypertension is a common cardiovascular disease linked to high blood pressure.\",\n",
        "    \"Obesity increases the risk of several chronic diseases, including heart disease.\",\n",
        "    \"A general physician treats various illnesses and refers patients to specialists if needed.\",\n",
        "    \"Regular health check-ups help in early detection of medical conditions.\",\n",
        "\n",
        "    # Neurology\n",
        "    \"A neurologist specializes in treating disorders of the nervous system.\",\n",
        "    \"MRI scans can detect abnormalities in the brain, such as tumors or strokes.\",\n",
        "    \"Alzheimer's disease is a progressive neurodegenerative disorder affecting memory.\",\n",
        "    \"Epilepsy is a neurological disorder characterized by recurrent seizures.\",\n",
        "    \"The brain's neurons communicate using electrical and chemical signals.\",\n",
        "    \"Parkinson’s disease causes tremors and difficulty in movement due to dopamine deficiency.\",\n",
        "    \"Multiple sclerosis is an autoimmune disorder affecting the central nervous system.\",\n",
        "\n",
        "    # Cardiology\n",
        "    \"The doctor performed cardiac surgery to treat the patient's heart condition.\",\n",
        "    \"Electrocardiograms (ECG) help in diagnosing heart rhythm disorders.\",\n",
        "    \"Cholesterol buildup in arteries can lead to heart attacks.\",\n",
        "    \"Cardiologists recommend regular exercise for heart health.\",\n",
        "    \"A pacemaker is implanted to regulate abnormal heartbeats.\",\n",
        "    \"Angioplasty is a procedure used to open blocked coronary arteries.\",\n",
        "    \"Heart failure occurs when the heart is unable to pump blood efficiently.\",\n",
        "\n",
        "    # Oncology (Cancer-related)\n",
        "    \"Oncology is the branch of medicine that deals with cancer treatment.\",\n",
        "    \"Chemotherapy and radiation therapy are common treatments for cancer.\",\n",
        "    \"Tumors can be benign or malignant depending on their growth patterns.\",\n",
        "    \"Lung cancer is strongly linked to smoking and environmental pollutants.\",\n",
        "    \"Early detection through screening improves cancer survival rates.\",\n",
        "    \"Immunotherapy helps the body's immune system fight cancer cells.\",\n",
        "    \"Breast cancer awareness campaigns emphasize regular screenings.\",\n",
        "\n",
        "    # Pharmacology & Medications\n",
        "    \"Antibiotics are used to treat bacterial infections but do not work on viruses.\",\n",
        "    \"Painkillers such as ibuprofen help reduce inflammation and pain.\",\n",
        "    \"Vaccines help boost immunity against infectious diseases.\",\n",
        "    \"Antiviral drugs are used to manage infections like influenza and HIV.\",\n",
        "    \"Pharmacists dispense medications and provide dosage guidance.\",\n",
        "    \"Overuse of antibiotics can lead to antibiotic resistance.\",\n",
        "    \"Corticosteroids are prescribed to reduce severe inflammation.\",\n",
        "\n",
        "    # Immunology & Vaccines\n",
        "    \"Vaccination protects against infectious diseases like measles and polio.\",\n",
        "    \"The immune system produces antibodies to fight infections.\",\n",
        "    \"Herd immunity occurs when a large portion of the population is vaccinated.\",\n",
        "    \"Autoimmune diseases occur when the immune system attacks the body's own cells.\",\n",
        "    \"Anaphylaxis is a severe allergic reaction requiring immediate medical attention.\",\n",
        "    \"Monoclonal antibodies are used for targeted therapy in immunology.\",\n",
        "    \"T-cells and B-cells play key roles in adaptive immunity.\",\n",
        "]\n"
      ],
      "metadata": {
        "id": "uBaC1Y6nfH3c"
      },
      "execution_count": null,
      "outputs": []
    },
    {
      "cell_type": "markdown",
      "source": [
        "Tokenization & Training Word2Vec Model"
      ],
      "metadata": {
        "id": "G2V94rFNlO5G"
      }
    },
    {
      "cell_type": "code",
      "source": [
        "stop_words = set(stopwords.words(\"english\"))\n",
        "processed_corpus = [\n",
        "    [word.lower() for word in word_tokenize(sentence.translate(str.maketrans(\"\", \"\", string.punctuation)))\n",
        "     if word.lower() not in stop_words]\n",
        "    for sentence in medical_corpus\n",
        "]\n",
        "\n",
        "model = Word2Vec(\n",
        "    sentences=processed_corpus,\n",
        "    vector_size=100,\n",
        "    window=5,\n",
        "    min_count=1,\n",
        "    workers=4,\n",
        "    sg=1,\n",
        "    epochs=200\n",
        ")\n",
        "\n",
        "print(\"New Word2Vec model training complete!\")\n"
      ],
      "metadata": {
        "id": "cTjEQfpAfMXj"
      },
      "execution_count": null,
      "outputs": []
    },
    {
      "cell_type": "code",
      "source": [
        "def get_similar_words(word):\n",
        "    if word in model.wv:\n",
        "        return model.wv.most_similar(word, topn=5)\n",
        "    else:\n",
        "        return f\"'{word}' not found in vocabulary.\"\n",
        "\n",
        "# Example queries\n",
        "print(\"Words similar to 'doctor':\", get_similar_words(\"doctor\"))\n",
        "print(\"Words similar to 'surgery':\", get_similar_words(\"surgery\"))\n",
        "print(\"Words similar to 'vaccination':\", get_similar_words(\"vaccination\"))\n",
        "print(\"Words similar to 'immunity':\", get_similar_words(\"immunity\"))\n",
        "print(\"Words similar to 'MRI':\", get_similar_words(\"mri\"))\n"
      ],
      "metadata": {
        "id": "HCdW6kilfPQp"
      },
      "execution_count": null,
      "outputs": []
    },
    {
      "cell_type": "markdown",
      "source": [
        "Visualization"
      ],
      "metadata": {
        "id": "Mrtq36ZClfMP"
      }
    },
    {
      "cell_type": "code",
      "source": [
        "words = [\"doctor\", \"patient\", \"surgery\", \"vaccination\", \"immunity\", \"diabetes\",\n",
        "         \"cardiac\", \"scans\", \"polio\", \"cardiology\", \"mri\"]\n",
        "\n",
        "filtered_words = [word for word in words if word in model.wv]\n",
        "word_vectors = np.array([model.wv[word] for word in filtered_words])\n",
        "\n",
        "if len(word_vectors) == 0:\n",
        "    raise ValueError(\"None of the selected words are present in the model vocabulary!\")\n",
        "\n",
        "pca = PCA(n_components=2)\n",
        "reduced_vectors = pca.fit_transform(word_vectors)\n",
        "\n",
        "plt.figure(figsize=(10,7))\n",
        "texts = []\n",
        "for i, word in enumerate(filtered_words):\n",
        "    plt.scatter(reduced_vectors[i, 0], reduced_vectors[i, 1], marker='o', color='blue')\n",
        "\n",
        "    texts.append(plt.text(reduced_vectors[i, 0], reduced_vectors[i, 1], word, fontsize=12))\n",
        "\n",
        "adjust_text(texts, arrowprops=dict(arrowstyle=\"-\", color='gray', alpha=0.5))\n",
        "\n",
        "plt.xlabel(\"PCA Component 1\")\n",
        "plt.ylabel(\"PCA Component 2\")\n",
        "plt.title(\"Medical Word Embeddings Visualization\")\n",
        "plt.show()\n"
      ],
      "metadata": {
        "id": "_cYRZ70zkIRz"
      },
      "execution_count": null,
      "outputs": []
    }
  ]
}